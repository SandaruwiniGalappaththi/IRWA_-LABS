{
  "nbformat": 4,
  "nbformat_minor": 0,
  "metadata": {
    "colab": {
      "provenance": [],
      "toc_visible": true,
      "authorship_tag": "ABX9TyMHIq4ygvz5cYchgmZFYbI6",
      "include_colab_link": true
    },
    "kernelspec": {
      "name": "python3",
      "display_name": "Python 3"
    },
    "language_info": {
      "name": "python"
    }
  },
  "cells": [
    {
      "cell_type": "markdown",
      "metadata": {
        "id": "view-in-github",
        "colab_type": "text"
      },
      "source": [
        "<a href=\"https://colab.research.google.com/github/SandaruwiniGalappaththi/IRWA_-LABS/blob/main/Untitled3.ipynb\" target=\"_parent\"><img src=\"https://colab.research.google.com/assets/colab-badge.svg\" alt=\"Open In Colab\"/></a>"
      ]
    },
    {
      "cell_type": "code",
      "execution_count": null,
      "metadata": {
        "colab": {
          "base_uri": "https://localhost:8080/"
        },
        "id": "HyLJp-rp54TL",
        "outputId": "1e710cf9-2779-4137-d455-c26011567f8b"
      },
      "outputs": [
        {
          "output_type": "execute_result",
          "data": {
            "text/plain": [
              "(('India', 'Kohli'),\n",
              " ('England', 'Root'),\n",
              " ('NZ', 'Williaamson'),\n",
              " ('Aus', 'Smith'))"
            ]
          },
          "metadata": {},
          "execution_count": 5
        }
      ],
      "source": [
        "teams = [\"India\", \"England\", \"NZ\", \"Aus\"]\n",
        "captains = [\"Kohli\",\"Root\",\"Williaamson\", \"Smith\"]\n",
        "list = [i + j for i,j in zip(teams,captains) ]\n",
        "list\n",
        "tuple(zip(teams,captains))"
      ]
    },
    {
      "cell_type": "code",
      "source": [
        "list = [1,2,3,4,5,6,7,8,9]\n",
        "list2 = [n*n for n in list]\n",
        "list2"
      ],
      "metadata": {
        "colab": {
          "base_uri": "https://localhost:8080/"
        },
        "id": "ZE-lpnZvEft_",
        "outputId": "179d9d4d-4700-45fe-a72e-6888f4848bcc"
      },
      "execution_count": null,
      "outputs": [
        {
          "output_type": "execute_result",
          "data": {
            "text/plain": [
              "[1, 4, 9, 16, 25, 36, 49, 64, 81]"
            ]
          },
          "metadata": {},
          "execution_count": 7
        }
      ]
    },
    {
      "cell_type": "code",
      "source": [
        "List1 = [2,4,6,8,10]\n",
        "list3 = [n + 10 for n in List1]\n",
        "list3"
      ],
      "metadata": {
        "colab": {
          "base_uri": "https://localhost:8080/"
        },
        "id": "06rixhloGo6E",
        "outputId": "73fcae3f-e623-4b8c-bb1e-e736bdd1ffaf"
      },
      "execution_count": null,
      "outputs": [
        {
          "output_type": "execute_result",
          "data": {
            "text/plain": [
              "[12, 14, 16, 18, 20]"
            ]
          },
          "metadata": {},
          "execution_count": 8
        }
      ]
    },
    {
      "cell_type": "code",
      "source": [
        "list1 = [10, 20, 30, 40]\n",
        "list2 = [\"Apples\", \"Mangoes\", \"Oranges\", \"Grapes\"]\n",
        "list2 = list2[::-1]\n",
        "list2\n",
        "for x,y in zip(list1,list2):\n",
        "  print(x,y)"
      ],
      "metadata": {
        "colab": {
          "base_uri": "https://localhost:8080/"
        },
        "id": "do81Kvt4HS0-",
        "outputId": "5ba93ae0-9f5f-4ad7-abac-75e9a1300ec6"
      },
      "execution_count": null,
      "outputs": [
        {
          "output_type": "stream",
          "name": "stdout",
          "text": [
            "10 Grapes\n",
            "20 Oranges\n",
            "30 Mangoes\n",
            "40 Apples\n"
          ]
        }
      ]
    },
    {
      "cell_type": "code",
      "source": [
        "list1 = [\"a\", \"b\", [\"c\", [\"d\", \"e\", [\"f\", \"g\"], \"k\"], \"l\"], \"m\", \"n\"]\n",
        "sub_list = [\"h\", \"i\", \"j\"]\n",
        "list1[2][1][2].extend(sub_list)\n",
        "list1\n"
      ],
      "metadata": {
        "colab": {
          "base_uri": "https://localhost:8080/"
        },
        "id": "_Hsy5_C1zNlU",
        "outputId": "69df0de5-965b-4a74-d369-eaff2cb62e37"
      },
      "execution_count": null,
      "outputs": [
        {
          "output_type": "execute_result",
          "data": {
            "text/plain": [
              "['a', 'b', ['c', ['d', 'e', ['f', 'g', 'h', 'i', 'j'], 'k'], 'l'], 'm', 'n']"
            ]
          },
          "metadata": {},
          "execution_count": 14
        }
      ]
    },
    {
      "cell_type": "code",
      "source": [
        "List1= [10,15,20,15,32,54,15]\n",
        "for x in List1:\n",
        "  if x == 15:\n",
        "    List1.remove(x)\n",
        "\n",
        "List1"
      ],
      "metadata": {
        "colab": {
          "base_uri": "https://localhost:8080/"
        },
        "id": "oHRC7_NO14gN",
        "outputId": "24d9bf09-d23c-4681-e333-ce7e5cef0c63"
      },
      "execution_count": null,
      "outputs": [
        {
          "output_type": "execute_result",
          "data": {
            "text/plain": [
              "[10, 20, 32, 54]"
            ]
          },
          "metadata": {},
          "execution_count": 15
        }
      ]
    },
    {
      "cell_type": "code",
      "source": [
        "keys= [\"ten\",\"twenty\",\"thirty\"]\n",
        "values = [10,20,30]\n",
        "\n",
        "dict(zip(keys,values))"
      ],
      "metadata": {
        "colab": {
          "base_uri": "https://localhost:8080/"
        },
        "id": "NWW8V2xs3Bbv",
        "outputId": "a27518d9-f840-4132-8767-91d3fac49c17"
      },
      "execution_count": null,
      "outputs": [
        {
          "output_type": "execute_result",
          "data": {
            "text/plain": [
              "{'ten': 10, 'twenty': 20, 'thirty': 30}"
            ]
          },
          "metadata": {},
          "execution_count": 19
        }
      ]
    },
    {
      "cell_type": "code",
      "source": [
        "dict_1 = {'John': 15, 'Rick': 10, 'Misa': 12}\n",
        "dict_2 = {'Bonnie': 18,'Rick': 20,'Matt': 16}\n",
        "dict_3 ={**dict_1,**dict_2}\n",
        "dict_3\n"
      ],
      "metadata": {
        "colab": {
          "base_uri": "https://localhost:8080/"
        },
        "id": "eqYF_4ck3o4k",
        "outputId": "1b2ea499-13a4-42a1-94d5-fd2e29042266"
      },
      "execution_count": null,
      "outputs": [
        {
          "output_type": "execute_result",
          "data": {
            "text/plain": [
              "{'John': 15, 'Rick': 20, 'Misa': 12, 'Bonnie': 18, 'Matt': 16}"
            ]
          },
          "metadata": {},
          "execution_count": 24
        }
      ]
    },
    {
      "cell_type": "code",
      "source": [
        "d = {0: 0, 1: 1, 2: 2, 3: 3}\n",
        "d[4] = d.pop[0]\n",
        "d\n",
        "#Answer = {1: 1, 2: 2, 3: 3, 4: 0}"
      ],
      "metadata": {
        "colab": {
          "base_uri": "https://localhost:8080/",
          "height": 217
        },
        "id": "gzGVbm8p5TLJ",
        "outputId": "68ba9c68-f70e-4743-9021-7c3f717a780f"
      },
      "execution_count": null,
      "outputs": [
        {
          "output_type": "error",
          "ename": "TypeError",
          "evalue": "ignored",
          "traceback": [
            "\u001b[0;31m---------------------------------------------------------------------------\u001b[0m",
            "\u001b[0;31mTypeError\u001b[0m                                 Traceback (most recent call last)",
            "\u001b[0;32m<ipython-input-25-05cb36ba2ce7>\u001b[0m in \u001b[0;36m<module>\u001b[0;34m\u001b[0m\n\u001b[1;32m      1\u001b[0m \u001b[0md\u001b[0m \u001b[0;34m=\u001b[0m \u001b[0;34m{\u001b[0m\u001b[0;36m0\u001b[0m\u001b[0;34m:\u001b[0m \u001b[0;36m0\u001b[0m\u001b[0;34m,\u001b[0m \u001b[0;36m1\u001b[0m\u001b[0;34m:\u001b[0m \u001b[0;36m1\u001b[0m\u001b[0;34m,\u001b[0m \u001b[0;36m2\u001b[0m\u001b[0;34m:\u001b[0m \u001b[0;36m2\u001b[0m\u001b[0;34m,\u001b[0m \u001b[0;36m3\u001b[0m\u001b[0;34m:\u001b[0m \u001b[0;36m3\u001b[0m\u001b[0;34m}\u001b[0m\u001b[0;34m\u001b[0m\u001b[0;34m\u001b[0m\u001b[0m\n\u001b[0;32m----> 2\u001b[0;31m \u001b[0md\u001b[0m\u001b[0;34m[\u001b[0m\u001b[0;36m4\u001b[0m\u001b[0;34m]\u001b[0m \u001b[0;34m=\u001b[0m \u001b[0md\u001b[0m\u001b[0;34m.\u001b[0m\u001b[0mpop\u001b[0m\u001b[0;34m[\u001b[0m\u001b[0;36m0\u001b[0m\u001b[0;34m]\u001b[0m\u001b[0;34m\u001b[0m\u001b[0;34m\u001b[0m\u001b[0m\n\u001b[0m\u001b[1;32m      3\u001b[0m \u001b[0md\u001b[0m\u001b[0;34m\u001b[0m\u001b[0;34m\u001b[0m\u001b[0m\n\u001b[1;32m      4\u001b[0m \u001b[0;31m#Answer = {1: 1, 2: 2, 3: 3, 4: 0}\u001b[0m\u001b[0;34m\u001b[0m\u001b[0;34m\u001b[0m\u001b[0;34m\u001b[0m\u001b[0m\n",
            "\u001b[0;31mTypeError\u001b[0m: 'builtin_function_or_method' object is not subscriptable"
          ]
        }
      ]
    },
    {
      "cell_type": "code",
      "source": [
        "country=[\"USA\",\"France\",\"India\"]\n",
        "capital= [\"Washington D.C.\",\"Paris\",\"New Delhi\"]\n",
        "dict_together = zip(country, capital)\n",
        "dict(dict_together)"
      ],
      "metadata": {
        "colab": {
          "base_uri": "https://localhost:8080/"
        },
        "id": "hVzmVLvxE0Qz",
        "outputId": "301271a6-d63e-47f4-80ef-8dce56e8de07"
      },
      "execution_count": null,
      "outputs": [
        {
          "output_type": "execute_result",
          "data": {
            "text/plain": [
              "{'USA': 'Washington D.C.', 'France': 'Paris', 'India': 'New Delhi'}"
            ]
          },
          "metadata": {},
          "execution_count": 5
        }
      ]
    },
    {
      "cell_type": "code",
      "source": [
        "My_dict = {\"Fruit\": \"Pear\",\n",
        "\"Vegetable\": \"Carrot\",\n",
        "\"Pet\": \"Cat\",\n",
        "\"Book\": \"Moby dick\",\n",
        "\"Crystal\": \"Amethyst\"}\n",
        "keysToRemove = [\"Book\", \"Crystal\"]\n",
        "\n",
        "for i in keysToRemove:\n",
        "  del My_dict[i]\n",
        "\n",
        "My_dict\n",
        "\n"
      ],
      "metadata": {
        "colab": {
          "base_uri": "https://localhost:8080/"
        },
        "id": "3cA3O1WLFJXe",
        "outputId": "0f50f692-a6b7-489a-a3cf-e595b5aed885"
      },
      "execution_count": null,
      "outputs": [
        {
          "output_type": "execute_result",
          "data": {
            "text/plain": [
              "{'Fruit': 'Pear', 'Vegetable': 'Carrot', 'Pet': 'Cat'}"
            ]
          },
          "metadata": {},
          "execution_count": 8
        }
      ]
    },
    {
      "cell_type": "code",
      "source": [
        "sub_dict = {'math' : 100, 'chem' : 98, 'sci' : 100,'eng':100}\n",
        "key_to_extract = {'math', 'chem','sci'}\n",
        "extracted_dictionary = dict()\n",
        "for i in key_to_extract:\n",
        "  extracted_dictionary[i] = sub_dict[i]\n",
        "\n",
        "\n",
        "extracted_dictionary"
      ],
      "metadata": {
        "colab": {
          "base_uri": "https://localhost:8080/"
        },
        "id": "ibMMhMyoGowb",
        "outputId": "6140df49-acf9-48c5-8036-e173fd9e3073"
      },
      "execution_count": null,
      "outputs": [
        {
          "output_type": "execute_result",
          "data": {
            "text/plain": [
              "{'sci': 100, 'chem': 98, 'math': 100}"
            ]
          },
          "metadata": {},
          "execution_count": 42
        }
      ]
    },
    {
      "cell_type": "code",
      "source": [
        "# Python3 code to demonstrate\n",
        "# to get key and value\n",
        "# using in operator\n",
        "\n",
        "# initializing dictionary\n",
        "test_dict = {\"Geeks\" : 1, \"for\" : 2, \"geeks\" : 3}\n",
        "\n",
        "# Printing dictionary\n",
        "print (\"Original dictionary is : \" + str(test_dict))\n",
        "\n",
        "# using in operator to\n",
        "# get key and value\n",
        "print (\"Dict key-value are : \")\n",
        "for i in test_dict :\n",
        "\tprint(i, test_dict[i])\n"
      ],
      "metadata": {
        "colab": {
          "base_uri": "https://localhost:8080/"
        },
        "id": "34xvd2tQufLA",
        "outputId": "6312b1ef-ca0a-4796-c95d-b3801f161e00"
      },
      "execution_count": null,
      "outputs": [
        {
          "output_type": "stream",
          "name": "stdout",
          "text": [
            "Original dictionary is : {'Geeks': 1, 'for': 2, 'geeks': 3}\n",
            "Dict key-value are : \n",
            "1\n",
            "2\n",
            "3\n"
          ]
        }
      ]
    },
    {
      "cell_type": "code",
      "source": [
        "list1 = [12, 15, 32, 42, 55, 75, 122, 132, 150, 180, 200]\n",
        "answer =[]\n",
        "for i in list1:\n",
        "  if i % 5 == 0:\n",
        "    answer.append(i)\n",
        "  \n",
        "answer\n",
        "\n"
      ],
      "metadata": {
        "colab": {
          "base_uri": "https://localhost:8080/"
        },
        "id": "r7zggouJufOQ",
        "outputId": "a35698ba-16fa-45e3-d77a-7330b2740ad6"
      },
      "execution_count": null,
      "outputs": [
        {
          "output_type": "execute_result",
          "data": {
            "text/plain": [
              "[15, 55, 75, 150, 180, 200]"
            ]
          },
          "metadata": {},
          "execution_count": 48
        }
      ]
    },
    {
      "cell_type": "code",
      "source": [
        "numbers = [12, 75, 150, 180, 145, 525, 50]\n",
        "\n",
        "for i in numbers:\n",
        "  if i > 500:\n",
        "    break\n",
        "  elif i > 150:\n",
        "    continue\n",
        "  elif i % 5 == 0:\n",
        "    print(i)\n",
        "  \n",
        "\n",
        "    "
      ],
      "metadata": {
        "colab": {
          "base_uri": "https://localhost:8080/"
        },
        "id": "9pTK6jRrufQ6",
        "outputId": "0e610dfa-af0c-4f76-ad06-44bc1ed70fa4"
      },
      "execution_count": null,
      "outputs": [
        {
          "output_type": "stream",
          "name": "stdout",
          "text": [
            "75\n",
            "150\n",
            "145\n"
          ]
        }
      ]
    },
    {
      "cell_type": "code",
      "source": [
        "Substrings = \"@W3Resource.Com\"\n",
        "upper = 0\n",
        "lower = 0\n",
        "number = 0\n",
        "special = 0\n",
        "for i in range(len(Substrings)):\n",
        "\t\tif Substrings[i].isupper():\n",
        "\t\t\tupper += 1\n",
        "\t\telif Substrings[i].islower():\n",
        "\t\t\tlower += 1\n",
        "\t\telif Substrings[i].isdigit():\n",
        "\t\t\tnumber += 1\n",
        "\t\telse:\n",
        "\t\t\tspecial += 1\n",
        "\n",
        "\n",
        "print('Upper case letters:', upper)\n",
        "print('Lower case letters:', lower)\n",
        "print('Number:', number)\n",
        "print('Special characters:', special)\n",
        "\n"
      ],
      "metadata": {
        "colab": {
          "base_uri": "https://localhost:8080/"
        },
        "id": "rClEZYuh1UQG",
        "outputId": "00a49599-66d5-4d23-a932-4e7fa5f6fa2c"
      },
      "execution_count": null,
      "outputs": [
        {
          "output_type": "stream",
          "name": "stdout",
          "text": [
            "Upper case letters: 3\n",
            "Lower case letters: 9\n",
            "Number: 1\n",
            "Special characters: 2\n"
          ]
        }
      ]
    },
    {
      "cell_type": "code",
      "source": [
        "# Python 3 program to count the uppercase,\n",
        "# lowercase, special characters\n",
        "# and numeric values\n",
        "\n",
        "# Function to count uppercase, lowercase,\n",
        "# special characters and numbers\n",
        "def Count(str):\n",
        "\tupper, lower, number, special = 0, 0, 0, 0\n",
        "\tfor i in range(len(str)):\n",
        "\t\tif str[i].isupper():\n",
        "\t\t\tupper += 1\n",
        "\t\telif str[i].islower():\n",
        "\t\t\tlower += 1\n",
        "\t\telif str[i].isdigit():\n",
        "\t\t\tnumber += 1\n",
        "\t\telse:\n",
        "\t\t\tspecial += 1\n",
        "\tprint('Upper case letters:', upper)\n",
        "\tprint('Lower case letters:', lower)\n",
        "\tprint('Number:', number)\n",
        "\tprint('Special characters:', special)\n",
        "\n",
        "# Driver Code\n",
        "str = \"#GeeKs01fOr@gEEks07\"\n",
        "Count(str)\n",
        "\n",
        "# This code is contributed\n",
        "# by Sushma Reddy\n"
      ],
      "metadata": {
        "colab": {
          "base_uri": "https://localhost:8080/"
        },
        "id": "SckJZwni1rui",
        "outputId": "97f05848-2a3c-429b-cc52-a7ec4fbdf51c"
      },
      "execution_count": null,
      "outputs": [
        {
          "output_type": "stream",
          "name": "stdout",
          "text": [
            "Upper case letters: 5\n",
            "Lower case letters: 8\n",
            "Number: 4\n",
            "Special characters: 2\n"
          ]
        }
      ]
    },
    {
      "cell_type": "code",
      "source": [
        "# Python program showing\n",
        "# a use of input()\n",
        "\n",
        "val = input(\"Enter your value: \")\n",
        "print(val)\n"
      ],
      "metadata": {
        "colab": {
          "base_uri": "https://localhost:8080/"
        },
        "id": "b1DAWi6y4B0x",
        "outputId": "41aac380-19d9-44a8-ba16-539a89e7d27f"
      },
      "execution_count": null,
      "outputs": [
        {
          "output_type": "stream",
          "name": "stdout",
          "text": [
            "Enter your value: yyy\n",
            "yyy\n"
          ]
        }
      ]
    },
    {
      "cell_type": "code",
      "source": [
        "# Python program showing\n",
        "# a use of input()\n",
        "\n",
        "inp = input(\"Enter number: \")\n",
        "inp = int(inp)\n",
        "sum = 0\n",
        "total = 0\n",
        "for x in range(inp):\n",
        "  y = 2\n",
        "  y = y*(10**x)\n",
        "  sum = sum + y\n",
        "  print(sum,\" + \", end =\" \")\n",
        "  total = total + sum\n",
        "print(\" = \",total)\n"
      ],
      "metadata": {
        "colab": {
          "base_uri": "https://localhost:8080/"
        },
        "id": "puen_Xto4KeP",
        "outputId": "24e3c7ee-ac87-4dfc-e8f7-028bf9017c28"
      },
      "execution_count": null,
      "outputs": [
        {
          "output_type": "stream",
          "name": "stdout",
          "text": [
            "Enter number: 5\n",
            "2  +  22  +  222  +  2222  +  22222  +   =  24690\n"
          ]
        }
      ]
    },
    {
      "cell_type": "markdown",
      "source": [
        "# LAB 2"
      ],
      "metadata": {
        "id": "kPE2JL8J-V8V"
      }
    },
    {
      "cell_type": "code",
      "source": [
        "Doc_1 = \"breakthrough drug for schizophrenia\"\n",
        "Doc_2 = \"new schizophrenia drug\"\n",
        "Doc_3 = \"new approach for treatment of schizophrenia\"\n",
        "Doc_4 = \"new hopes for schizophrenia patients\"\n"
      ],
      "metadata": {
        "id": "SVsvfDsi-eyf"
      },
      "execution_count": null,
      "outputs": []
    },
    {
      "cell_type": "code",
      "source": [
        "from google.colab import drive\n",
        "drive.mount('/content/drive')"
      ],
      "metadata": {
        "colab": {
          "base_uri": "https://localhost:8080/"
        },
        "id": "XWkyK4tyYLOm",
        "outputId": "7d3f7f10-191a-41c5-ef8d-5f203c691e71"
      },
      "execution_count": null,
      "outputs": [
        {
          "output_type": "stream",
          "name": "stdout",
          "text": [
            "Mounted at /content/drive\n"
          ]
        }
      ]
    },
    {
      "cell_type": "code",
      "source": [
        "%cd /content/drive/MyDrive/LAB2"
      ],
      "metadata": {
        "colab": {
          "base_uri": "https://localhost:8080/"
        },
        "id": "YIB_OdHMYQBo",
        "outputId": "340e6a04-58a9-4dda-b871-2ba04848a91b"
      },
      "execution_count": null,
      "outputs": [
        {
          "output_type": "stream",
          "name": "stdout",
          "text": [
            "/content/drive/MyDrive/LAB2\n"
          ]
        }
      ]
    },
    {
      "cell_type": "code",
      "source": [
        "import os\n",
        "def InvertedIndex():\n",
        "\n",
        "  dictionary = dict()\n",
        "  directory = os.getcwd()+'/inverted'\n",
        "  files = os.listdir(directory)\n",
        "  \n",
        "  for file in files:\n",
        "    with open(os.getcwd()+'/inverted/'+file,'r')as f:\n",
        "      words = f.read().lower().split()\n",
        "      \n",
        "      for word in words:\n",
        "        if word not in dictionary:\n",
        "          dictionary[word] =[file]\n",
        "        else:\n",
        "          dictionary[word].append(file)\n",
        "  return(dictionary)\n",
        "\n",
        "print(dictionary)"
      ],
      "metadata": {
        "colab": {
          "base_uri": "https://localhost:8080/"
        },
        "id": "kIqA4iEbYu1b",
        "outputId": "0d2addf9-3b4d-498f-ce28-b60201b36d26"
      },
      "execution_count": null,
      "outputs": [
        {
          "output_type": "stream",
          "name": "stdout",
          "text": [
            "{'breakthrough': ['Doc1.txt'], 'drug': ['Doc1.txt', 'Doc2.txt'], 'for': ['Doc1.txt', 'Doc3.txt', 'Doc4.txt'], 'schizophrenia': ['Doc1.txt', 'Doc2.txt', 'Doc3.txt', 'Doc4.txt'], 'new': ['Doc2.txt', 'Doc3.txt', 'Doc4.txt'], 'approach': ['Doc3.txt'], 'treatment': ['Doc3.txt'], 'of': ['Doc3.txt'], 'hopes': ['Doc4.txt'], 'patients': ['Doc4.txt']}\n"
          ]
        }
      ]
    },
    {
      "cell_type": "code",
      "source": [
        "def and_op(list1,list2):\n",
        "  if ((list1) and (list2)):\n",
        "    return set(list1).intersection(list2)\n",
        "  else:\n",
        "    return()\n",
        "\n",
        "ii = InvertedIndex()\n",
        "for key in InvertedIndex():\n",
        "  if key == 'schizophrenia':\n",
        "    list1 = ii[key]\n",
        "    print('list1',list1)\n",
        "  if key == 'drug':\n",
        "    list2 = ii[key]\n",
        "    print('list2',list2)\n",
        "print('schizophrenia AND drug',and_op(list1,list2))"
      ],
      "metadata": {
        "colab": {
          "base_uri": "https://localhost:8080/"
        },
        "id": "1EiDXBQwyvJn",
        "outputId": "4cc4faaa-aef0-4dd6-c4fd-688b5279437e"
      },
      "execution_count": null,
      "outputs": [
        {
          "output_type": "stream",
          "name": "stdout",
          "text": [
            "list2 ['Doc1.txt', 'Doc2.txt']\n",
            "list1 ['Doc1.txt', 'Doc2.txt', 'Doc3.txt', 'Doc4.txt']\n",
            "schizophrenia AND drug {'Doc2.txt', 'Doc1.txt'}\n"
          ]
        }
      ]
    },
    {
      "cell_type": "markdown",
      "source": [
        "# WEB SCRAPPING"
      ],
      "metadata": {
        "id": "N7x_6F76w0vP"
      }
    },
    {
      "cell_type": "code",
      "source": [
        "# import module\n",
        "from urllib.request import urlopen\n",
        "from urllib.error import *\n",
        "\n",
        "# try block to read URL\n",
        "try:\n",
        "\thtml = urlopen(\"https://www.sliit.lk/\")\n",
        "\t\n",
        "# except block to catch\n",
        "# exception\n",
        "# and identify error\n",
        "except HTTPError as e:\n",
        "\tprint(\"HTTP error\", e)\n",
        "\t\n",
        "except URLError as e:\n",
        "\tprint(\"Opps ! Page not found!\", e)\n",
        "\n",
        "else:\n",
        "\tprint('Yeah ! found ')\n",
        "\n"
      ],
      "metadata": {
        "colab": {
          "base_uri": "https://localhost:8080/"
        },
        "id": "Ncof-Ddzw50z",
        "outputId": "0c5d9471-4bbe-4336-d467-d07ddb034af5"
      },
      "execution_count": 3,
      "outputs": [
        {
          "output_type": "stream",
          "name": "stdout",
          "text": [
            "Yeah ! found \n"
          ]
        }
      ]
    },
    {
      "cell_type": "code",
      "source": [
        "# import module\n",
        "import requests\n",
        "\n",
        "# create a function\n",
        "# pass the url\n",
        "def url_ok(url):\n",
        "\t\n",
        "\t# exception block\n",
        "\ttry:\n",
        "\t\n",
        "\t\t# pass the url into\n",
        "\t\t# request.hear\n",
        "\t\tresponse = requests.head(url)\n",
        "\t\t\n",
        "\t\t# check the status code\n",
        "\t\tif response.status_code == 200:\n",
        "\t\t\treturn True\n",
        "\t\telse:\n",
        "\t\t\treturn False\n",
        "\texcept requests.ConnectionError as e:\n",
        "\t\treturn e\n",
        "\n",
        "# driven code\n",
        "url = \"https://www.geeksforgeeks.org/\"\n",
        "url_ok(url)\n"
      ],
      "metadata": {
        "colab": {
          "base_uri": "https://localhost:8080/"
        },
        "id": "b2NX_sqMzi7X",
        "outputId": "de2d9602-151f-4f29-ccf8-ddae0fd4e403"
      },
      "execution_count": 4,
      "outputs": [
        {
          "output_type": "execute_result",
          "data": {
            "text/plain": [
              "True"
            ]
          },
          "metadata": {},
          "execution_count": 4
        }
      ]
    }
  ]
}